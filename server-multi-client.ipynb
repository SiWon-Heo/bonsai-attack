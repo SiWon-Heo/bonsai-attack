{
 "cells": [
  {
   "cell_type": "markdown",
   "metadata": {},
   "source": [
    "# Server Side for Multi Clients"
   ]
  },
  {
   "cell_type": "markdown",
   "metadata": {},
   "source": [
    "## Imports"
   ]
  },
  {
   "cell_type": "code",
   "execution_count": 1,
   "metadata": {},
   "outputs": [],
   "source": [
    "import os\n",
    "import time\n",
    "import sys\n",
    "\n",
    "from tqdm import tqdm\n",
    "\n",
    "import torch\n",
    "import torch.nn as nn\n",
    "import torch.nn.functional as F\n",
    "import torchvision\n",
    "import torchvision.transforms as transforms\n",
    "import torch.optim as optim\n",
    "from torch.utils.data import Subset\n",
    "from torchvision.datasets import MNIST, SVHN, USPS\n",
    "\n",
    "from tqdm import tqdm\n",
    "from torch.utils.data import Dataset, DataLoader\n",
    "import copy"
   ]
  },
  {
   "cell_type": "code",
   "execution_count": 2,
   "metadata": {},
   "outputs": [],
   "source": [
    "from src.lib import *"
   ]
  },
  {
   "cell_type": "markdown",
   "metadata": {},
   "source": [
    "## Set CUDA"
   ]
  },
  {
   "cell_type": "code",
   "execution_count": 3,
   "metadata": {},
   "outputs": [],
   "source": [
    "device = \"cuda:0\" if torch.cuda.is_available() else \"cpu\"\n",
    "torch.manual_seed(777)\n",
    "if device ==\"cuda:0\":\n",
    "    torch.cuda.manual_seed_all(777)"
   ]
  },
  {
   "cell_type": "markdown",
   "metadata": {},
   "source": [
    "## Setting variables"
   ]
  },
  {
   "cell_type": "code",
   "execution_count": 4,
   "metadata": {},
   "outputs": [],
   "source": [
    "model_name = \"mobilenet\"\n",
    "dataset_name = \"digit5\"\n",
    "data_path = './models/'\n",
    "asset_path = './assets/'\n",
    "classes = ('0', '1', '2', '3', '4', '5', '6', '7', '8', '9')"
   ]
  },
  {
   "cell_type": "code",
   "execution_count": 5,
   "metadata": {},
   "outputs": [],
   "source": [
    "epochs = 10\n",
    "nuser = 4 # number of users\n",
    "train_datasize_total = 32000\n",
    "train_datasize_per_client = train_datasize_total // nuser"
   ]
  },
  {
   "cell_type": "markdown",
   "metadata": {},
   "source": [
    "### network setting"
   ]
  },
  {
   "cell_type": "code",
   "execution_count": 6,
   "metadata": {},
   "outputs": [],
   "source": [
    "# host = socket.gethostbyname(socket.gethostname())\n",
    "host = 'localhost'\n",
    "port = 10085"
   ]
  },
  {
   "cell_type": "markdown",
   "metadata": {},
   "source": [
    "## Define model"
   ]
  },
  {
   "cell_type": "code",
   "execution_count": 7,
   "metadata": {},
   "outputs": [
    {
     "name": "stdout",
     "output_type": "stream",
     "text": [
      "ServerMobileNet(\n",
      "  (layer1): Sequential(\n",
      "    (0): Sequential(\n",
      "      (0): Conv2d(3, 32, kernel_size=(3, 3), stride=(1, 1), padding=(1, 1))\n",
      "      (1): BatchNorm2d(32, eps=1e-05, momentum=0.1, affine=True, track_running_stats=True)\n",
      "      (2): ReLU()\n",
      "    )\n",
      "  )\n",
      "  (classifer): Sequential(\n",
      "    (0): Dropout(p=0.5, inplace=False)\n",
      "    (1): Linear(in_features=1024, out_features=10, bias=True)\n",
      "  )\n",
      "  (feature): Sequential(\n",
      "    (0): Sequential(\n",
      "      (0): Conv2d(32, 32, kernel_size=(3, 3), stride=(1, 1), padding=(1, 1), groups=32)\n",
      "      (1): BatchNorm2d(32, eps=1e-05, momentum=0.1, affine=True, track_running_stats=True)\n",
      "      (2): ReLU()\n",
      "      (3): Conv2d(32, 64, kernel_size=(1, 1), stride=(1, 1))\n",
      "      (4): BatchNorm2d(64, eps=1e-05, momentum=0.1, affine=True, track_running_stats=True)\n",
      "      (5): ReLU()\n",
      "    )\n",
      "    (1): Sequential(\n",
      "      (0): Conv2d(64, 64, kernel_size=(3, 3), stride=(2, 2), padding=(1, 1), groups=64)\n",
      "      (1): BatchNorm2d(64, eps=1e-05, momentum=0.1, affine=True, track_running_stats=True)\n",
      "      (2): ReLU()\n",
      "      (3): Conv2d(64, 128, kernel_size=(1, 1), stride=(1, 1))\n",
      "      (4): BatchNorm2d(128, eps=1e-05, momentum=0.1, affine=True, track_running_stats=True)\n",
      "      (5): ReLU()\n",
      "    )\n",
      "    (2): Sequential(\n",
      "      (0): Conv2d(128, 128, kernel_size=(3, 3), stride=(1, 1), padding=(1, 1), groups=128)\n",
      "      (1): BatchNorm2d(128, eps=1e-05, momentum=0.1, affine=True, track_running_stats=True)\n",
      "      (2): ReLU()\n",
      "      (3): Conv2d(128, 128, kernel_size=(1, 1), stride=(1, 1))\n",
      "      (4): BatchNorm2d(128, eps=1e-05, momentum=0.1, affine=True, track_running_stats=True)\n",
      "      (5): ReLU()\n",
      "    )\n",
      "    (3): Sequential(\n",
      "      (0): Conv2d(128, 128, kernel_size=(3, 3), stride=(2, 2), padding=(1, 1), groups=128)\n",
      "      (1): BatchNorm2d(128, eps=1e-05, momentum=0.1, affine=True, track_running_stats=True)\n",
      "      (2): ReLU()\n",
      "      (3): Conv2d(128, 256, kernel_size=(1, 1), stride=(1, 1))\n",
      "      (4): BatchNorm2d(256, eps=1e-05, momentum=0.1, affine=True, track_running_stats=True)\n",
      "      (5): ReLU()\n",
      "    )\n",
      "    (4): Sequential(\n",
      "      (0): Conv2d(256, 256, kernel_size=(3, 3), stride=(1, 1), padding=(1, 1), groups=256)\n",
      "      (1): BatchNorm2d(256, eps=1e-05, momentum=0.1, affine=True, track_running_stats=True)\n",
      "      (2): ReLU()\n",
      "      (3): Conv2d(256, 256, kernel_size=(1, 1), stride=(1, 1))\n",
      "      (4): BatchNorm2d(256, eps=1e-05, momentum=0.1, affine=True, track_running_stats=True)\n",
      "      (5): ReLU()\n",
      "    )\n",
      "    (5): Sequential(\n",
      "      (0): Conv2d(256, 256, kernel_size=(3, 3), stride=(2, 2), padding=(1, 1), groups=256)\n",
      "      (1): BatchNorm2d(256, eps=1e-05, momentum=0.1, affine=True, track_running_stats=True)\n",
      "      (2): ReLU()\n",
      "      (3): Conv2d(256, 512, kernel_size=(1, 1), stride=(1, 1))\n",
      "      (4): BatchNorm2d(512, eps=1e-05, momentum=0.1, affine=True, track_running_stats=True)\n",
      "      (5): ReLU()\n",
      "    )\n",
      "    (6): Sequential(\n",
      "      (0): Conv2d(512, 512, kernel_size=(3, 3), stride=(1, 1), padding=(1, 1), groups=512)\n",
      "      (1): BatchNorm2d(512, eps=1e-05, momentum=0.1, affine=True, track_running_stats=True)\n",
      "      (2): ReLU()\n",
      "      (3): Conv2d(512, 512, kernel_size=(1, 1), stride=(1, 1))\n",
      "      (4): BatchNorm2d(512, eps=1e-05, momentum=0.1, affine=True, track_running_stats=True)\n",
      "      (5): ReLU()\n",
      "    )\n",
      "    (7): Sequential(\n",
      "      (0): Conv2d(512, 512, kernel_size=(3, 3), stride=(1, 1), padding=(1, 1), groups=512)\n",
      "      (1): BatchNorm2d(512, eps=1e-05, momentum=0.1, affine=True, track_running_stats=True)\n",
      "      (2): ReLU()\n",
      "      (3): Conv2d(512, 512, kernel_size=(1, 1), stride=(1, 1))\n",
      "      (4): BatchNorm2d(512, eps=1e-05, momentum=0.1, affine=True, track_running_stats=True)\n",
      "      (5): ReLU()\n",
      "    )\n",
      "    (8): Sequential(\n",
      "      (0): Conv2d(512, 512, kernel_size=(3, 3), stride=(1, 1), padding=(1, 1), groups=512)\n",
      "      (1): BatchNorm2d(512, eps=1e-05, momentum=0.1, affine=True, track_running_stats=True)\n",
      "      (2): ReLU()\n",
      "      (3): Conv2d(512, 512, kernel_size=(1, 1), stride=(1, 1))\n",
      "      (4): BatchNorm2d(512, eps=1e-05, momentum=0.1, affine=True, track_running_stats=True)\n",
      "      (5): ReLU()\n",
      "    )\n",
      "    (9): Sequential(\n",
      "      (0): Conv2d(512, 512, kernel_size=(3, 3), stride=(1, 1), padding=(1, 1), groups=512)\n",
      "      (1): BatchNorm2d(512, eps=1e-05, momentum=0.1, affine=True, track_running_stats=True)\n",
      "      (2): ReLU()\n",
      "      (3): Conv2d(512, 512, kernel_size=(1, 1), stride=(1, 1))\n",
      "      (4): BatchNorm2d(512, eps=1e-05, momentum=0.1, affine=True, track_running_stats=True)\n",
      "      (5): ReLU()\n",
      "    )\n",
      "    (10): Sequential(\n",
      "      (0): Conv2d(512, 512, kernel_size=(3, 3), stride=(1, 1), padding=(1, 1), groups=512)\n",
      "      (1): BatchNorm2d(512, eps=1e-05, momentum=0.1, affine=True, track_running_stats=True)\n",
      "      (2): ReLU()\n",
      "      (3): Conv2d(512, 512, kernel_size=(1, 1), stride=(1, 1))\n",
      "      (4): BatchNorm2d(512, eps=1e-05, momentum=0.1, affine=True, track_running_stats=True)\n",
      "      (5): ReLU()\n",
      "    )\n",
      "    (11): Sequential(\n",
      "      (0): Conv2d(512, 512, kernel_size=(3, 3), stride=(2, 2), padding=(1, 1), groups=512)\n",
      "      (1): BatchNorm2d(512, eps=1e-05, momentum=0.1, affine=True, track_running_stats=True)\n",
      "      (2): ReLU()\n",
      "      (3): Conv2d(512, 1024, kernel_size=(1, 1), stride=(1, 1))\n",
      "      (4): BatchNorm2d(1024, eps=1e-05, momentum=0.1, affine=True, track_running_stats=True)\n",
      "      (5): ReLU()\n",
      "    )\n",
      "    (12): Sequential(\n",
      "      (0): Conv2d(1024, 1024, kernel_size=(3, 3), stride=(1, 1), padding=(1, 1), groups=1024)\n",
      "      (1): BatchNorm2d(1024, eps=1e-05, momentum=0.1, affine=True, track_running_stats=True)\n",
      "      (2): ReLU()\n",
      "      (3): Conv2d(1024, 1024, kernel_size=(1, 1), stride=(1, 1))\n",
      "      (4): BatchNorm2d(1024, eps=1e-05, momentum=0.1, affine=True, track_running_stats=True)\n",
      "      (5): ReLU()\n",
      "    )\n",
      "  )\n",
      ")\n"
     ]
    }
   ],
   "source": [
    "server_model = ServerMobileNet().to(device)\n",
    "print(server_model)\n",
    "client_model = ClientMobileNet()"
   ]
  },
  {
   "cell_type": "markdown",
   "metadata": {},
   "source": [
    "### Set other hyperparameters in the model\n",
    "Hyperparameters here should be same with the client side."
   ]
  },
  {
   "cell_type": "code",
   "execution_count": 8,
   "metadata": {},
   "outputs": [],
   "source": [
    "criterion = nn.CrossEntropyLoss()\n",
    "lr = 0.001\n",
    "optimizer = optim.SGD(server_model.parameters(), lr=lr, momentum=0.9)\n",
    "\n",
    "client_weights = copy.deepcopy(client_model.state_dict())"
   ]
  },
  {
   "cell_type": "markdown",
   "metadata": {},
   "source": [
    "## Allocate Server"
   ]
  },
  {
   "cell_type": "code",
   "execution_count": 9,
   "metadata": {},
   "outputs": [
    {
     "name": "stdout",
     "output_type": "stream",
     "text": [
      "Conected with ('127.0.0.1', 34176)\n"
     ]
    }
   ],
   "source": [
    "server = Server(host, port, 1)\n",
    "clients = server.accept_clients()\n",
    "client_batchsizes = server.training_prep(epochs)\n",
    "client = clients[0]\n",
    "client_batchsize = client_batchsizes[0]"
   ]
  },
  {
   "cell_type": "markdown",
   "metadata": {},
   "source": [
    "## 1. Training phase"
   ]
  },
  {
   "cell_type": "code",
   "execution_count": 10,
   "metadata": {
    "scrolled": true
   },
   "outputs": [
    {
     "name": "stdout",
     "output_type": "stream",
     "text": [
      "training start!\n"
     ]
    },
    {
     "name": "stderr",
     "output_type": "stream",
     "text": [
      "Epoch 1 Client0 : 100%|███████████████████████████████████████████| 500/500 [00:11<00:00, 44.22it/s]\n",
      "Epoch 1 Client1 : 100%|███████████████████████████████████████████| 500/500 [00:10<00:00, 45.74it/s]\n",
      "Epoch 1 Client2 : 100%|███████████████████████████████████████████| 500/500 [00:10<00:00, 46.09it/s]\n",
      "Epoch 1 Client3 : 100%|███████████████████████████████████████████| 500/500 [00:10<00:00, 46.04it/s]\n",
      "Epoch 2 Client0 : 100%|███████████████████████████████████████████| 500/500 [00:10<00:00, 45.93it/s]\n",
      "Epoch 2 Client1 : 100%|███████████████████████████████████████████| 500/500 [00:11<00:00, 44.83it/s]\n",
      "Epoch 2 Client2 : 100%|███████████████████████████████████████████| 500/500 [00:11<00:00, 45.43it/s]\n",
      "Epoch 2 Client3 : 100%|███████████████████████████████████████████| 500/500 [00:10<00:00, 45.53it/s]\n",
      "Epoch 3 Client0 : 100%|███████████████████████████████████████████| 500/500 [00:10<00:00, 45.60it/s]\n",
      "Epoch 3 Client1 : 100%|███████████████████████████████████████████| 500/500 [00:10<00:00, 45.92it/s]\n",
      "Epoch 3 Client2 : 100%|███████████████████████████████████████████| 500/500 [00:10<00:00, 45.62it/s]\n",
      "Epoch 3 Client3 : 100%|███████████████████████████████████████████| 500/500 [00:11<00:00, 44.33it/s]\n",
      "Epoch 4 Client0 : 100%|███████████████████████████████████████████| 500/500 [00:10<00:00, 45.51it/s]\n",
      "Epoch 4 Client1 : 100%|███████████████████████████████████████████| 500/500 [00:11<00:00, 45.29it/s]\n",
      "Epoch 4 Client2 : 100%|███████████████████████████████████████████| 500/500 [00:10<00:00, 45.60it/s]\n",
      "Epoch 4 Client3 : 100%|███████████████████████████████████████████| 500/500 [00:11<00:00, 45.31it/s]\n",
      "Epoch 5 Client0 : 100%|███████████████████████████████████████████| 500/500 [00:11<00:00, 42.49it/s]\n",
      "Epoch 5 Client1 : 100%|███████████████████████████████████████████| 500/500 [00:11<00:00, 41.93it/s]\n",
      "Epoch 5 Client2 : 100%|███████████████████████████████████████████| 500/500 [00:11<00:00, 43.61it/s]\n",
      "Epoch 5 Client3 : 100%|███████████████████████████████████████████| 500/500 [00:11<00:00, 42.93it/s]\n",
      "Epoch 6 Client0 : 100%|███████████████████████████████████████████| 500/500 [00:11<00:00, 44.03it/s]\n",
      "Epoch 6 Client1 : 100%|███████████████████████████████████████████| 500/500 [00:11<00:00, 41.89it/s]\n",
      "Epoch 6 Client2 : 100%|███████████████████████████████████████████| 500/500 [00:11<00:00, 41.82it/s]\n",
      "Epoch 6 Client3 : 100%|███████████████████████████████████████████| 500/500 [00:11<00:00, 43.39it/s]\n",
      "Epoch 7 Client0 : 100%|███████████████████████████████████████████| 500/500 [00:11<00:00, 45.43it/s]\n",
      "Epoch 7 Client1 : 100%|███████████████████████████████████████████| 500/500 [00:11<00:00, 43.31it/s]\n",
      "Epoch 7 Client2 : 100%|███████████████████████████████████████████| 500/500 [00:11<00:00, 43.47it/s]\n",
      "Epoch 7 Client3 : 100%|███████████████████████████████████████████| 500/500 [00:11<00:00, 43.55it/s]\n",
      "Epoch 8 Client0 : 100%|███████████████████████████████████████████| 500/500 [00:11<00:00, 44.29it/s]\n",
      "Epoch 8 Client1 : 100%|███████████████████████████████████████████| 500/500 [00:11<00:00, 44.13it/s]\n",
      "Epoch 8 Client2 : 100%|███████████████████████████████████████████| 500/500 [00:11<00:00, 44.97it/s]\n",
      "Epoch 8 Client3 : 100%|███████████████████████████████████████████| 500/500 [00:11<00:00, 43.01it/s]\n",
      "Epoch 9 Client0 : 100%|███████████████████████████████████████████| 500/500 [00:11<00:00, 43.21it/s]\n",
      "Epoch 9 Client1 : 100%|███████████████████████████████████████████| 500/500 [00:11<00:00, 44.36it/s]\n",
      "Epoch 9 Client2 : 100%|███████████████████████████████████████████| 500/500 [00:11<00:00, 44.37it/s]\n",
      "Epoch 9 Client3 : 100%|███████████████████████████████████████████| 500/500 [00:11<00:00, 41.98it/s]\n",
      "Epoch 10 Client0 : 100%|██████████████████████████████████████████| 500/500 [00:12<00:00, 41.60it/s]\n",
      "Epoch 10 Client1 : 100%|██████████████████████████████████████████| 500/500 [00:11<00:00, 42.15it/s]\n",
      "Epoch 10 Client2 : 100%|██████████████████████████████████████████| 500/500 [00:11<00:00, 43.62it/s]\n",
      "Epoch 10 Client3 : 100%|██████████████████████████████████████████| 500/500 [00:11<00:00, 42.23it/s]\n"
     ]
    },
    {
     "name": "stdout",
     "output_type": "stream",
     "text": [
      "elapsed time for training using cuda:0 : 454.00772619247437 sec\n"
     ]
    }
   ],
   "source": [
    "# send client_weight\n",
    "datasize = send_msg(client, client_weights)\n",
    "\n",
    "start_time = time.time()    # store start time\n",
    "print(\"training start!\")\n",
    "\n",
    "for e in range(epochs):\n",
    "\n",
    "    # train client 0\n",
    "\n",
    "    for cidx in range(nuser):\n",
    "\n",
    "        for i in tqdm(range(client_batchsize), ncols=100, desc='Epoch {} Client{} '.format(e+1, cidx)):\n",
    "            optimizer.zero_grad()  # initialize all gradients to zero\n",
    "\n",
    "            # receive results of front-model from client\n",
    "            msg, msglen = recv_msg(client)\n",
    "\n",
    "            # x(client) --> intermediate tensor --> (server) --> score, our label\n",
    "            client_output_cpu = msg['client_output']  # intermediate tensor from client\n",
    "            label = msg['label']  # true label\n",
    "\n",
    "            client_output = client_output_cpu.to(device)\n",
    "            label = label.clone().detach().long().to(device)\n",
    "\n",
    "            # insert the tensor into back model, obtain loss, back propa\n",
    "            output = server_model(client_output)\n",
    "            loss = criterion(output, label)\n",
    "            loss.backward()\n",
    "            \n",
    "            # return intermediate back propagation data to client\n",
    "            msg = client_output_cpu.grad.clone().detach() # copy tensor\n",
    "            msglen = send_msg(client, msg) \n",
    "            \n",
    "            optimizer.step()\n",
    "            \n",
    "        \n",
    "elapsed_time = time.time() - start_time\n",
    "print(\"elapsed time for training using\", device ,\": {} sec\".format(elapsed_time))\n",
    "\n",
    "# save SERVER weights:\n",
    "model_path = asset_path + model_name + '_' + dataset_name + '_server.pth'\n",
    "torch.save(server_model.state_dict(), model_path)\n",
    "\n",
    "# retrieve CLIENT weights\n",
    "front_models = []\n",
    "for _ in range(nuser):\n",
    "    msg, msglen = recv_msg(client)\n",
    "    front_models.append(msg)\n"
   ]
  },
  {
   "cell_type": "code",
   "execution_count": 11,
   "metadata": {},
   "outputs": [],
   "source": [
    "# save front model of each client:\n",
    "for cidx, front_model in enumerate(front_models):\n",
    "    model_path = asset_path + model_name + '_' + dataset_name + '_c' + str(cidx) + '.pth'\n",
    "    torch.save(front_model, model_path)"
   ]
  },
  {
   "cell_type": "markdown",
   "metadata": {},
   "source": [
    "## 3. Test phase"
   ]
  },
  {
   "cell_type": "code",
   "execution_count": 12,
   "metadata": {},
   "outputs": [],
   "source": [
    "# resize every image into 32x32\n",
    "# Order: MNIST, USPS, SVHN, MNIST-M, SYNTH\n",
    "transform = transforms.Compose([transforms.ToTensor(),\n",
    "                                transforms.Normalize((0.4914, 0.4822, 0.4465), (0.2470, 0.2435, 0.2616)),\n",
    "                                transforms.Resize((32, 32))\n",
    "                               ])\n",
    "transform_to_rgb = transforms.Compose([transforms.Grayscale(num_output_channels=3),\n",
    "                                       transforms.ToTensor(),\n",
    "                                       transforms.Normalize((0.4914, 0.4822, 0.4465), (0.2470, 0.2435, 0.2616)),\n",
    "                                       transforms.Resize((32, 32))\n",
    "                                      ])"
   ]
  },
  {
   "cell_type": "code",
   "execution_count": 13,
   "metadata": {},
   "outputs": [
    {
     "name": "stdout",
     "output_type": "stream",
     "text": [
      "Using downloaded and verified file: ./models/svhn_data/test_32x32.mat\n",
      "./models/mnist-m_data/MNISTM/processed/mnist_m_test.pt\n",
      "./models/synthdigit_data/SyntheticDigits/processed/synth_test.pt\n"
     ]
    }
   ],
   "source": [
    "test_mnist = MNIST(root=data_path + 'mnist_data', train=False, download=True, transform=transform_to_rgb)\n",
    "test_svhn = SVHN(root=data_path + 'svhn_data', split='test', download=True, transform=transform)\n",
    "test_mnistm = MNISTM(root=data_path + 'mnist-m_data', train=False, download=True, transform=transform)\n",
    "test_synth = SyntheticDigits(root=data_path + 'synthdigit_data', train=False, download=True, transform=transform)\n",
    "test_usps = USPS(root=data_path + 'usps_data', train=False, download=True, transform=transform_to_rgb)\n",
    "test_datasets = [test_mnist, test_svhn, test_mnistm, test_synth, test_usps]"
   ]
  },
  {
   "cell_type": "code",
   "execution_count": 14,
   "metadata": {},
   "outputs": [],
   "source": [
    "test_size = 1000\n",
    "indices = list(range(test_size))\n",
    "test_loaders = []\n",
    "for i, data_set in enumerate(test_datasets):\n",
    "    loader = torch.utils.data.DataLoader(Subset(data_set, indices), batch_size=16, shuffle=False, num_workers=2)\n",
    "    test_loaders.append(loader)"
   ]
  },
  {
   "cell_type": "code",
   "execution_count": 15,
   "metadata": {},
   "outputs": [
    {
     "name": "stdout",
     "output_type": "stream",
     "text": [
      "[10000, 26032, 10000, 9553, 2007]\n",
      "[63, 63, 63, 63, 63]\n"
     ]
    }
   ],
   "source": [
    "print([len(x) for x in test_datasets])\n",
    "print([len(x) for x in test_loaders])"
   ]
  },
  {
   "cell_type": "code",
   "execution_count": 18,
   "metadata": {},
   "outputs": [
    {
     "name": "stdout",
     "output_type": "stream",
     "text": [
      "total_batch:  63\n",
      "input tensor shape:  torch.Size([16, 3, 32, 32])\n",
      "output label shape:  torch.Size([16])\n"
     ]
    }
   ],
   "source": [
    "# pick one dataset\n",
    "test_loader = test_loaders[4]\n",
    "test_total_batch = len(test_loader)\n",
    "print(\"total_batch: \", test_total_batch)\n",
    "x_test, y_test = next(iter(test_loader))\n",
    "print(\"input tensor shape: \", x_test.size())\n",
    "print(\"output label shape: \", y_test.size())"
   ]
  },
  {
   "cell_type": "markdown",
   "metadata": {},
   "source": [
    "## Calculate Accuracy after training"
   ]
  },
  {
   "cell_type": "markdown",
   "metadata": {},
   "source": [
    "### test acc"
   ]
  },
  {
   "cell_type": "code",
   "execution_count": 19,
   "metadata": {
    "scrolled": true
   },
   "outputs": [
    {
     "name": "stderr",
     "output_type": "stream",
     "text": [
      "front model 0 test: 100%|██████████████████████████████████████████| 63/63 [00:00<00:00, 116.15it/s]\n"
     ]
    },
    {
     "name": "stdout",
     "output_type": "stream",
     "text": [
      "\tAccuracy of     0 : 77 %\n",
      "\tAccuracy of     1 : 91 %\n",
      "\tAccuracy of     2 : 80 %\n",
      "\tAccuracy of     3 : 93 %\n",
      "\tAccuracy of     4 : 73 %\n",
      "\tAccuracy of     5 : 90 %\n",
      "\tAccuracy of     6 : 91 %\n",
      "\tAccuracy of     7 : 90 %\n",
      "\tAccuracy of     8 : 71 %\n",
      "\tAccuracy of     9 : 62 %\n",
      "\tTotal Accuracy: 81 %\n"
     ]
    },
    {
     "name": "stderr",
     "output_type": "stream",
     "text": [
      "front model 1 test: 100%|██████████████████████████████████████████| 63/63 [00:00<00:00, 120.22it/s]\n"
     ]
    },
    {
     "name": "stdout",
     "output_type": "stream",
     "text": [
      "\tAccuracy of     0 : 77 %\n",
      "\tAccuracy of     1 : 92 %\n",
      "\tAccuracy of     2 : 79 %\n",
      "\tAccuracy of     3 : 91 %\n",
      "\tAccuracy of     4 : 74 %\n",
      "\tAccuracy of     5 : 90 %\n",
      "\tAccuracy of     6 : 90 %\n",
      "\tAccuracy of     7 : 90 %\n",
      "\tAccuracy of     8 : 75 %\n",
      "\tAccuracy of     9 : 61 %\n",
      "\tTotal Accuracy: 81 %\n"
     ]
    },
    {
     "name": "stderr",
     "output_type": "stream",
     "text": [
      "front model 2 test: 100%|██████████████████████████████████████████| 63/63 [00:00<00:00, 122.16it/s]\n"
     ]
    },
    {
     "name": "stdout",
     "output_type": "stream",
     "text": [
      "\tAccuracy of     0 : 76 %\n",
      "\tAccuracy of     1 : 92 %\n",
      "\tAccuracy of     2 : 78 %\n",
      "\tAccuracy of     3 : 91 %\n",
      "\tAccuracy of     4 : 73 %\n",
      "\tAccuracy of     5 : 92 %\n",
      "\tAccuracy of     6 : 90 %\n",
      "\tAccuracy of     7 : 91 %\n",
      "\tAccuracy of     8 : 72 %\n",
      "\tAccuracy of     9 : 60 %\n",
      "\tTotal Accuracy: 80 %\n"
     ]
    },
    {
     "name": "stderr",
     "output_type": "stream",
     "text": [
      "front model 3 test: 100%|██████████████████████████████████████████| 63/63 [00:00<00:00, 114.41it/s]"
     ]
    },
    {
     "name": "stdout",
     "output_type": "stream",
     "text": [
      "\tAccuracy of     0 : 72 %\n",
      "\tAccuracy of     1 : 93 %\n",
      "\tAccuracy of     2 : 77 %\n",
      "\tAccuracy of     3 : 87 %\n",
      "\tAccuracy of     4 : 72 %\n",
      "\tAccuracy of     5 : 84 %\n",
      "\tAccuracy of     6 : 93 %\n",
      "\tAccuracy of     7 : 93 %\n",
      "\tAccuracy of     8 : 72 %\n",
      "\tAccuracy of     9 : 73 %\n",
      "\tTotal Accuracy: 80 %\n"
     ]
    },
    {
     "name": "stderr",
     "output_type": "stream",
     "text": [
      "\n"
     ]
    }
   ],
   "source": [
    "# test accuracy per each front model\n",
    "for cidx, front_model in enumerate(front_models):\n",
    "    client_model.load_state_dict(front_model)\n",
    "    client_model.to(device)\n",
    "    class_correct = list(0. for i in range(len(classes)))\n",
    "    class_total = list(0. for i in range(len(classes)))\n",
    "    with torch.no_grad():\n",
    "        for _, data in enumerate(tqdm(test_loader, ncols=100, desc=('front model %d test' % cidx))):\n",
    "            x, labels = data\n",
    "            x = x.to(device)\n",
    "            labels = labels.to(device)\n",
    "\n",
    "            outputs = client_model(x)\n",
    "            outputs = server_model(outputs)\n",
    "            labels = labels.long()\n",
    "            _, predicted = torch.max(outputs, 1)\n",
    "            c = (predicted == labels).squeeze()\n",
    "            for i in range(len(labels)):\n",
    "                label = labels[i]\n",
    "                class_correct[label] += c[i].item()\n",
    "                class_total[label] += 1\n",
    "                \n",
    "    # print accuracy per class\n",
    "    for i in range(10):\n",
    "        print('\\tAccuracy of %5s : %2d %%' % (\n",
    "            classes[i], 100 * class_correct[i] / class_total[i]))\n",
    "    \n",
    "    # print total accuracy\n",
    "    print('\\tTotal Accuracy: %2d %%' % (100 * sum(class_correct) / sum(class_total)))\n"
   ]
  },
  {
   "cell_type": "code",
   "execution_count": null,
   "metadata": {},
   "outputs": [],
   "source": []
  }
 ],
 "metadata": {
  "file_extension": ".py",
  "kernelspec": {
   "display_name": "Python 3 (ipykernel)",
   "language": "python",
   "name": "python3"
  },
  "language_info": {
   "codemirror_mode": {
    "name": "ipython",
    "version": 3
   },
   "file_extension": ".py",
   "mimetype": "text/x-python",
   "name": "python",
   "nbconvert_exporter": "python",
   "pygments_lexer": "ipython3",
   "version": "3.7.11"
  },
  "mimetype": "text/x-python",
  "name": "python",
  "npconvert_exporter": "python",
  "pygments_lexer": "ipython3",
  "version": 3
 },
 "nbformat": 4,
 "nbformat_minor": 2
}
